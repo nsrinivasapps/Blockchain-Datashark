{
 "cells": [
  {
   "cell_type": "markdown",
   "metadata": {},
   "source": [
    "Packing multiple numbers"
   ]
  },
  {
   "cell_type": "code",
   "execution_count": 1,
   "metadata": {},
   "outputs": [],
   "source": [
    "import phe\n",
    "import struct\n",
    "import random"
   ]
  },
  {
   "cell_type": "code",
   "execution_count": 2,
   "metadata": {},
   "outputs": [],
   "source": [
    "publickey, privatekey = phe.generate_paillier_keypair(n_length=2048)"
   ]
  },
  {
   "cell_type": "markdown",
   "metadata": {},
   "source": [
    "Pack 4 byte numbers into a single number"
   ]
  },
  {
   "cell_type": "code",
   "execution_count": 3,
   "metadata": {
    "collapsed": true
   },
   "outputs": [],
   "source": [
    "x = 20"
   ]
  },
  {
   "cell_type": "code",
   "execution_count": 4,
   "metadata": {},
   "outputs": [
    {
     "data": {
      "text/plain": [
       "800"
      ]
     },
     "execution_count": 4,
     "metadata": {},
     "output_type": "execute_result"
    }
   ],
   "source": [
    "endian = 'little'\n",
    "packed_fmt = \"x4p\" * x\n",
    "struct.calcsize(packed_fmt)*8"
   ]
  },
  {
   "cell_type": "code",
   "execution_count": 5,
   "metadata": {},
   "outputs": [],
   "source": [
    "def pack_numbers(numbers):\n",
    "    p = []\n",
    "    for n in numbers:\n",
    "        n_bytes = n.to_bytes(4, endian)\n",
    "        p.append(n_bytes)\n",
    "        assert n == int.from_bytes(n_bytes, endian)\n",
    "        #print(n_bytes)\n",
    "\n",
    "    encoded_bytes = struct.pack(packed_fmt, *p)\n",
    "    encoded_num = int.from_bytes(encoded_bytes, endian)\n",
    "    return encoded_num\n",
    "\n",
    "def unpack(encoded):\n",
    "    enc_bytes = encoded.to_bytes(struct.calcsize(packed_fmt), endian)\n",
    "    return [int.from_bytes(b, endian) for b in struct.unpack(packed_fmt, enc_bytes)]"
   ]
  },
  {
   "cell_type": "code",
   "execution_count": 6,
   "metadata": {},
   "outputs": [],
   "source": [
    "numbers_a = [random.randint(0, 2**20) for _ in range(x)]\n",
    "\n",
    "encoded_a = pack_numbers(numbers_a)\n",
    "assert unpack(encoded_a) == numbers_a\n",
    "\n",
    "numbers_b = [random.randint(0, 2**20) for i in range(x)]\n",
    "numbers_b[0] = 0\n",
    "numbers_b[1] = 1\n",
    "numbers_b[2] = 2**20\n",
    "\n",
    "encoded_b = pack_numbers(numbers_b)\n",
    "assert unpack(encoded_b) == numbers_b"
   ]
  },
  {
   "cell_type": "code",
   "execution_count": 7,
   "metadata": {
    "collapsed": true
   },
   "outputs": [],
   "source": [
    "ciphertext_a = publickey.raw_encrypt(encoded_a)\n",
    "\n",
    "ciphertext_b = publickey.raw_encrypt(encoded_b)"
   ]
  },
  {
   "cell_type": "markdown",
   "metadata": {},
   "source": [
    "Now I assume that we can add them together.\n",
    "\n",
    "I'm not so confident about multiplying by a scalar:\n",
    "\n",
    "- E(a) * b"
   ]
  },
  {
   "cell_type": "code",
   "execution_count": 8,
   "metadata": {
    "scrolled": true
   },
   "outputs": [],
   "source": [
    "def compare(operation, res):\n",
    "    for a, b, r in zip(numbers_a, numbers_b, res):\n",
    "        opres = operation(a, b)\n",
    "        assert opres == r\n",
    "        print(opres, r)"
   ]
  },
  {
   "cell_type": "markdown",
   "metadata": {},
   "source": [
    "## Case 1\n",
    "\n",
    "$E(a) + E(b)$"
   ]
  },
  {
   "cell_type": "code",
   "execution_count": 9,
   "metadata": {},
   "outputs": [
    {
     "name": "stdout",
     "output_type": "stream",
     "text": [
      "230434 230434\n",
      "193515 193515\n",
      "1438910 1438910\n",
      "1359267 1359267\n",
      "1515364 1515364\n",
      "1319562 1319562\n",
      "1125473 1125473\n",
      "1641695 1641695\n",
      "582305 582305\n",
      "956673 956673\n",
      "462229 462229\n",
      "243885 243885\n",
      "622645 622645\n",
      "928660 928660\n",
      "1251032 1251032\n",
      "1593311 1593311\n",
      "1466206 1466206\n",
      "1041035 1041035\n",
      "1734044 1734044\n",
      "1588096 1588096\n"
     ]
    }
   ],
   "source": [
    "ea = phe.EncryptedNumber(publickey, ciphertext_a)\n",
    "cipher_both = ea._raw_add(ciphertext_a, ciphertext_b)\n",
    "result = unpack(privatekey.raw_decrypt(cipher_both))\n",
    "compare(lambda a,b: a+b, result)"
   ]
  },
  {
   "cell_type": "code",
   "execution_count": 10,
   "metadata": {},
   "outputs": [
    {
     "ename": "OverflowError",
     "evalue": "int too big to convert",
     "output_type": "error",
     "traceback": [
      "\u001b[0;31m---------------------------------------------------------------------------\u001b[0m",
      "\u001b[0;31mOverflowError\u001b[0m                             Traceback (most recent call last)",
      "\u001b[0;32m<ipython-input-10-3f2a4f3dd82e>\u001b[0m in \u001b[0;36m<module>\u001b[0;34m()\u001b[0m\n\u001b[1;32m      2\u001b[0m \u001b[0mea\u001b[0m \u001b[0;34m=\u001b[0m \u001b[0mphe\u001b[0m\u001b[0;34m.\u001b[0m\u001b[0mEncryptedNumber\u001b[0m\u001b[0;34m(\u001b[0m\u001b[0mpublickey\u001b[0m\u001b[0;34m,\u001b[0m \u001b[0mciphertext_a\u001b[0m\u001b[0;34m)\u001b[0m\u001b[0;34m\u001b[0m\u001b[0m\n\u001b[1;32m      3\u001b[0m \u001b[0mcipher_both\u001b[0m \u001b[0;34m=\u001b[0m \u001b[0mea\u001b[0m\u001b[0;34m.\u001b[0m\u001b[0m_raw_mul\u001b[0m\u001b[0;34m(\u001b[0m\u001b[0mencoded_b\u001b[0m\u001b[0;34m)\u001b[0m\u001b[0;34m\u001b[0m\u001b[0m\n\u001b[0;32m----> 4\u001b[0;31m \u001b[0mresult\u001b[0m \u001b[0;34m=\u001b[0m \u001b[0munpack\u001b[0m\u001b[0;34m(\u001b[0m\u001b[0mprivatekey\u001b[0m\u001b[0;34m.\u001b[0m\u001b[0mraw_decrypt\u001b[0m\u001b[0;34m(\u001b[0m\u001b[0mcipher_both\u001b[0m\u001b[0;34m)\u001b[0m\u001b[0;34m)\u001b[0m\u001b[0;34m\u001b[0m\u001b[0m\n\u001b[0m\u001b[1;32m      5\u001b[0m \u001b[0mcompare\u001b[0m\u001b[0;34m(\u001b[0m\u001b[0;32mlambda\u001b[0m \u001b[0ma\u001b[0m\u001b[0;34m,\u001b[0m\u001b[0mb\u001b[0m\u001b[0;34m:\u001b[0m \u001b[0ma\u001b[0m\u001b[0;34m*\u001b[0m\u001b[0mb\u001b[0m\u001b[0;34m,\u001b[0m \u001b[0mresult\u001b[0m\u001b[0;34m)\u001b[0m\u001b[0;34m\u001b[0m\u001b[0m\n",
      "\u001b[0;32m<ipython-input-5-2a2dbaadc88c>\u001b[0m in \u001b[0;36munpack\u001b[0;34m(encoded)\u001b[0m\n\u001b[1;32m     12\u001b[0m \u001b[0;34m\u001b[0m\u001b[0m\n\u001b[1;32m     13\u001b[0m \u001b[0;32mdef\u001b[0m \u001b[0munpack\u001b[0m\u001b[0;34m(\u001b[0m\u001b[0mencoded\u001b[0m\u001b[0;34m)\u001b[0m\u001b[0;34m:\u001b[0m\u001b[0;34m\u001b[0m\u001b[0m\n\u001b[0;32m---> 14\u001b[0;31m     \u001b[0menc_bytes\u001b[0m \u001b[0;34m=\u001b[0m \u001b[0mencoded\u001b[0m\u001b[0;34m.\u001b[0m\u001b[0mto_bytes\u001b[0m\u001b[0;34m(\u001b[0m\u001b[0mstruct\u001b[0m\u001b[0;34m.\u001b[0m\u001b[0mcalcsize\u001b[0m\u001b[0;34m(\u001b[0m\u001b[0mpacked_fmt\u001b[0m\u001b[0;34m)\u001b[0m\u001b[0;34m,\u001b[0m \u001b[0mendian\u001b[0m\u001b[0;34m)\u001b[0m\u001b[0;34m\u001b[0m\u001b[0m\n\u001b[0m\u001b[1;32m     15\u001b[0m     \u001b[0;32mreturn\u001b[0m \u001b[0;34m[\u001b[0m\u001b[0mint\u001b[0m\u001b[0;34m.\u001b[0m\u001b[0mfrom_bytes\u001b[0m\u001b[0;34m(\u001b[0m\u001b[0mb\u001b[0m\u001b[0;34m,\u001b[0m \u001b[0mendian\u001b[0m\u001b[0;34m)\u001b[0m \u001b[0;32mfor\u001b[0m \u001b[0mb\u001b[0m \u001b[0;32min\u001b[0m \u001b[0mstruct\u001b[0m\u001b[0;34m.\u001b[0m\u001b[0munpack\u001b[0m\u001b[0;34m(\u001b[0m\u001b[0mpacked_fmt\u001b[0m\u001b[0;34m,\u001b[0m \u001b[0menc_bytes\u001b[0m\u001b[0;34m)\u001b[0m\u001b[0;34m]\u001b[0m\u001b[0;34m\u001b[0m\u001b[0m\n",
      "\u001b[0;31mOverflowError\u001b[0m: int too big to convert"
     ]
    }
   ],
   "source": [
    "# Case 2 multiplying be a vector encoded number\n",
    "ea = phe.EncryptedNumber(publickey, ciphertext_a)\n",
    "cipher_both = ea._raw_mul(encoded_b)\n",
    "result = unpack(privatekey.raw_decrypt(cipher_both))\n",
    "compare(lambda a,b: a*b, result)"
   ]
  },
  {
   "cell_type": "code",
   "execution_count": null,
   "metadata": {
    "collapsed": true
   },
   "outputs": [],
   "source": []
  }
 ],
 "metadata": {
  "kernelspec": {
   "display_name": "Python 3",
   "language": "python",
   "name": "python3"
  },
  "language_info": {
   "codemirror_mode": {
    "name": "ipython",
    "version": 3
   },
   "file_extension": ".py",
   "mimetype": "text/x-python",
   "name": "python",
   "nbconvert_exporter": "python",
   "pygments_lexer": "ipython3",
   "version": "3.6.1"
  }
 },
 "nbformat": 4,
 "nbformat_minor": 2
}
